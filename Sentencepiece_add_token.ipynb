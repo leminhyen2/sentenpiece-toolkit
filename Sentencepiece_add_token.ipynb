{
  "nbformat": 4,
  "nbformat_minor": 0,
  "metadata": {
    "colab": {
      "name": "Sentencepiece-add-token.ipynb",
      "provenance": [],
      "collapsed_sections": []
    },
    "kernelspec": {
      "name": "python3",
      "display_name": "Python 3"
    },
    "language_info": {
      "name": "python"
    }
  },
  "cells": [
    {
      "cell_type": "markdown",
      "source": [
        "# Add token"
      ],
      "metadata": {
        "id": "dO3IJu2m7cRX"
      }
    },
    {
      "cell_type": "code",
      "source": [
        "!git clone https://github.com/google/sentencepiece"
      ],
      "metadata": {
        "colab": {
          "base_uri": "https://localhost:8080/"
        },
        "id": "9zjAUMVDj9i3",
        "outputId": "79980710-3566-489c-9048-bc97802ec601"
      },
      "execution_count": null,
      "outputs": [
        {
          "output_type": "stream",
          "name": "stdout",
          "text": [
            "Cloning into 'sentencepiece'...\n",
            "remote: Enumerating objects: 3870, done.\u001b[K\n",
            "remote: Counting objects: 100% (179/179), done.\u001b[K\n",
            "remote: Compressing objects: 100% (107/107), done.\u001b[K\n",
            "remote: Total 3870 (delta 83), reused 133 (delta 71), pack-reused 3691\u001b[K\n",
            "Receiving objects: 100% (3870/3870), 32.19 MiB | 11.93 MiB/s, done.\n",
            "Resolving deltas: 100% (2675/2675), done.\n"
          ]
        }
      ]
    },
    {
      "cell_type": "code",
      "source": [
        "%cd /content/sentencepiece/src"
      ],
      "metadata": {
        "colab": {
          "base_uri": "https://localhost:8080/"
        },
        "id": "53yv2wYmkCzE",
        "outputId": "57d09ccf-ef91-4945-ffd0-b9d6a2ec5991"
      },
      "execution_count": null,
      "outputs": [
        {
          "output_type": "stream",
          "name": "stdout",
          "text": [
            "/content/sentencepiece/src\n"
          ]
        }
      ]
    },
    {
      "cell_type": "code",
      "source": [
        "!protoc --python_out=. sentencepiece_model.proto"
      ],
      "metadata": {
        "id": "reul1YygkctR"
      },
      "execution_count": null,
      "outputs": []
    },
    {
      "cell_type": "code",
      "source": [
        "import sentencepiece_model_pb2 as model\n",
        "m = model.ModelProto()\n",
        "m.ParseFromString(open(\"/content/ja.model\", \"rb\").read())"
      ],
      "metadata": {
        "colab": {
          "base_uri": "https://localhost:8080/"
        },
        "id": "TlrEYneqjcUF",
        "outputId": "afd9bc71-6e01-4f6b-e51e-8a7e6ad951e3"
      },
      "execution_count": null,
      "outputs": [
        {
          "output_type": "execute_result",
          "data": {
            "text/plain": [
              "822295"
            ]
          },
          "metadata": {},
          "execution_count": 13
        }
      ]
    },
    {
      "cell_type": "code",
      "source": [
        "%%writefile special_token.txt\n",
        "<BT>"
      ],
      "metadata": {
        "colab": {
          "base_uri": "https://localhost:8080/"
        },
        "id": "_RAFrAwQdk3C",
        "outputId": "9ae9f0f5-e5c0-4474-e513-4abe6bc9b193"
      },
      "execution_count": null,
      "outputs": [
        {
          "output_type": "stream",
          "name": "stdout",
          "text": [
            "Overwriting special_token.txt\n"
          ]
        }
      ]
    },
    {
      "cell_type": "code",
      "source": [
        "special_tokens = open(\"/content/sentencepiece/src/special_token.txt\", \"r\").read().split(\"\\n\")\n",
        "special_tokens"
      ],
      "metadata": {
        "colab": {
          "base_uri": "https://localhost:8080/"
        },
        "id": "WKhpUO-DjuVb",
        "outputId": "343c4277-ce3f-41b3-c280-971cee0c3b4c"
      },
      "execution_count": null,
      "outputs": [
        {
          "output_type": "execute_result",
          "data": {
            "text/plain": [
              "['<BT>']"
            ]
          },
          "metadata": {},
          "execution_count": 15
        }
      ]
    },
    {
      "cell_type": "code",
      "source": [
        "for token in special_tokens:\n",
        "    new_token = model.ModelProto().SentencePiece()\n",
        "    new_token.piece = token\n",
        "    new_token.score = 0\n",
        "    m.pieces.append(new_token)\n",
        "    print(new_token)"
      ],
      "metadata": {
        "colab": {
          "base_uri": "https://localhost:8080/"
        },
        "id": "LUxIGlFBjxP5",
        "outputId": "3a7d65f5-0871-44e1-b431-e4c0f24c088d"
      },
      "execution_count": null,
      "outputs": [
        {
          "output_type": "stream",
          "name": "stdout",
          "text": [
            "piece: \"<BT>\"\n",
            "score: 0.0\n",
            "\n"
          ]
        }
      ]
    },
    {
      "cell_type": "code",
      "source": [
        "with open('/content/output.model', 'wb') as f:\n",
        "    f.write(m.SerializeToString())"
      ],
      "metadata": {
        "id": "xyZaRNbUjy7K"
      },
      "execution_count": null,
      "outputs": []
    },
    {
      "cell_type": "markdown",
      "source": [
        "# Check"
      ],
      "metadata": {
        "id": "8dyB0WQi7kIU"
      }
    },
    {
      "cell_type": "code",
      "source": [
        "!protoc --python_out=. sentencepiece_model.proto\n",
        "import sentencepiece_model_pb2 as model\n",
        "m = model.ModelProto()\n",
        "m.ParseFromString(open('/content/drive/MyDrive/spmModels/spm.ja.nopretok.model', 'rb').read())\n",
        "\n",
        "for index,p in enumerate(m.pieces):\n",
        "  if p.piece == \"<BT>\":\n",
        "    print(\"It exist at = \",index,p.piece)"
      ],
      "metadata": {
        "id": "DYkZwD3ZpBk7"
      },
      "execution_count": null,
      "outputs": []
    },
    {
      "cell_type": "code",
      "source": [
        "import sentencepiece as spm\n",
        "\n",
        "# makes segmenter instance and loads the model file (m.model)\n",
        "sp = spm.SentencePieceProcessor()\n",
        "sp.load('/content/new.model')\n",
        "\n",
        "# encode: text => id\n",
        "print(sp.encode_as_pieces('{{B}}が到着しました'))\n",
        "print(sp.encode_as_ids('{{B}}が到着しました'))\n",
        "\n",
        "# decode: id => text\n",
        "print(sp.decode_pieces(['▁', '{', '{', 'B', '}', '}', 'が', '到着', 'しました']))\n",
        "print(sp.decode_ids([4, 7204, 7204, 122, 7211, 7211, 8, 2263, 82]))"
      ],
      "metadata": {
        "colab": {
          "base_uri": "https://localhost:8080/"
        },
        "id": "1AY0L9lk8uox",
        "outputId": "3d319a65-926f-4570-aa40-4eec1118cd27"
      },
      "execution_count": null,
      "outputs": [
        {
          "output_type": "stream",
          "name": "stdout",
          "text": [
            "['▁', '{{B}}', 'が', '到着', 'しました']\n",
            "[4, 32002, 8, 2263, 82]\n",
            "{{B}}が到着しました\n",
            "{{B}}が到着しました\n"
          ]
        }
      ]
    }
  ]
}